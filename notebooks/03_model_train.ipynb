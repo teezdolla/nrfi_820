{
 "cells": [
  {
   "cell_type": "code",
   "execution_count": 2,
   "id": "0dbfeb72-ca2f-462e-9f3d-72766cdd2a81",
   "metadata": {},
   "outputs": [
    {
     "name": "stdout",
     "output_type": "stream",
     "text": [
      "=== 03_model_train ===\n",
      "Python 3.12.7 | pandas 2.3.1 | numpy 2.2.6 | sklearn 1.7.1 | xgboost 3.0.4\n",
      "Platform: Windows 11 | Time: 2025-08-21 16:08:00\n",
      "Note: using neutral park/weather fallback (no weather features).\n",
      "Loaded shapes: labels (8680, 8) team (17360, 4) starter (17360, 4) lineup (8680, 4) pitch (8680, 4) pw (8680, 8)\n"
     ]
    }
   ],
   "source": [
    "# === 03_model_train: universal header + config + loads ===\n",
    "import sys, yaml\n",
    "from pathlib import Path\n",
    "\n",
    "# 1) Make src/ importable regardless of where you opened the notebook\n",
    "PROJECT_ROOT = Path.cwd()\n",
    "if PROJECT_ROOT.name.lower() == \"notebooks\":\n",
    "    PROJECT_ROOT = PROJECT_ROOT.parent\n",
    "sys.path.insert(0, str(PROJECT_ROOT / \"src\"))\n",
    "\n",
    "# 2) Autoreload for iterative edits\n",
    "%load_ext autoreload\n",
    "%autoreload 2\n",
    "\n",
    "# 3) Imports\n",
    "from utils import print_run_header, read_parquet\n",
    "print_run_header(\"03_model_train\")\n",
    "\n",
    "# 4) Load config\n",
    "CFG_PATH = PROJECT_ROOT / \"configs\" / \"config.yaml\"\n",
    "assert CFG_PATH.exists(), f\"Missing config at {CFG_PATH}\"\n",
    "cfg = yaml.safe_load(CFG_PATH.read_text())\n",
    "\n",
    "# 5) Load processed artifacts from 02_feature_store\n",
    "PROC_DIR = PROJECT_ROOT / cfg[\"paths\"][\"processed_dir\"]\n",
    "\n",
    "labels_path = PROC_DIR / \"labels.parquet\"\n",
    "team_path   = PROC_DIR / \"team_features.parquet\"\n",
    "starter_path= PROC_DIR / \"starter_features.parquet\"\n",
    "lineup_path = PROC_DIR / \"lineup_features.parquet\"\n",
    "pitch_path  = PROC_DIR / \"pitch_features.parquet\"\n",
    "pw_path     = PROC_DIR / \"park_weather_features.parquet\"  # may not exist if weather was skipped\n",
    "\n",
    "for p in [labels_path, team_path, starter_path, lineup_path, pitch_path]:\n",
    "    assert p.exists(), f\"Missing required file: {p}\"\n",
    "\n",
    "labels = read_parquet(labels_path)\n",
    "team   = read_parquet(team_path)\n",
    "starter= read_parquet(starter_path)\n",
    "lineup = read_parquet(lineup_path)\n",
    "pitch  = read_parquet(pitch_path)\n",
    "\n",
    "# Weather/park may be skipped; build a neutral fallback if absent\n",
    "if pw_path.exists():\n",
    "    pw = read_parquet(pw_path)\n",
    "else:\n",
    "    import pandas as pd\n",
    "    pw = pd.DataFrame({\n",
    "        \"game_id\": labels[\"game_id\"],\n",
    "        \"game_pk\": labels[\"game_pk\"],\n",
    "        \"temp_c\": 20.0,\n",
    "        \"rel_humidity\": 50.0,\n",
    "        \"wind_kph\": 8.0,\n",
    "        \"mslp_hpa\": 1015.0,\n",
    "        \"park_factor_runs\": 1.0,\n",
    "        \"air_density_proxy\": 1.0,\n",
    "    })\n",
    "    print(\"Note: using neutral park/weather fallback (no weather features).\")\n",
    "\n",
    "print(\"Loaded shapes:\",\n",
    "      \"labels\", labels.shape,\n",
    "      \"team\", team.shape,\n",
    "      \"starter\", starter.shape,\n",
    "      \"lineup\", lineup.shape,\n",
    "      \"pitch\", pitch.shape,\n",
    "      \"pw\", pw.shape)\n"
   ]
  },
  {
   "cell_type": "code",
   "execution_count": 4,
   "id": "88bc776a-20d2-445c-8e81-39d5908def20",
   "metadata": {},
   "outputs": [
    {
     "name": "stdout",
     "output_type": "stream",
     "text": [
      "labels missing: []\n",
      "team missing: []\n",
      "starter missing: []\n",
      "lineup missing: []\n",
      "pitch missing: []\n",
      "pw missing: []\n"
     ]
    }
   ],
   "source": [
    "for nm, df_ in [(\"labels\", labels), (\"team\", team), (\"starter\", starter), (\"lineup\", lineup), (\"pitch\", pitch), (\"pw\", pw)]:\n",
    "    missing = [c for c in [\"game_id\", \"game_pk\"] if c not in df_.columns]\n",
    "    print(nm, \"missing:\", missing)\n"
   ]
  },
  {
   "cell_type": "code",
   "execution_count": 6,
   "id": "24d06000-17af-4b3b-a466-33ac825a9197",
   "metadata": {},
   "outputs": [
    {
     "name": "stdout",
     "output_type": "stream",
     "text": [
      "labels    rows= 8680  dup_key_rows=    0  unique_games=8680\n",
      "team      rows=17360  dup_key_rows= 8680  unique_games=8680\n",
      "starter   rows=17360  dup_key_rows= 8680  unique_games=8680\n",
      "lineup    rows= 8680  dup_key_rows=    0  unique_games=8680\n",
      "pitch     rows= 8680  dup_key_rows=    0  unique_games=8680\n",
      "pw        rows= 8680  dup_key_rows=    0  unique_games=8680\n"
     ]
    }
   ],
   "source": [
    "keys = [\"game_id\", \"game_pk\"]\n",
    "\n",
    "def dup_report(df, name):\n",
    "    dups = df.duplicated(keys).sum()\n",
    "    uniq = df.drop_duplicates(keys).shape[0]\n",
    "    print(f\"{name:8s}  rows={len(df):5d}  dup_key_rows={dups:5d}  unique_games={uniq}\")\n",
    "\n",
    "for nm, df_ in [(\"labels\", labels), (\"team\", team), (\"starter\", starter),\n",
    "                (\"lineup\", lineup), (\"pitch\", pitch), (\"pw\", pw)]:\n",
    "    dup_report(df_, nm)\n"
   ]
  },
  {
   "cell_type": "code",
   "execution_count": 8,
   "id": "d02333c2-29be-4241-85c1-d28aab6d520a",
   "metadata": {},
   "outputs": [],
   "source": [
    "keys = [\"game_id\", \"game_pk\"]\n",
    "\n",
    "def normalize_keys(df, name):\n",
    "    # 1) drop exact duplicate-named columns, keep first\n",
    "    df = df.loc[:, ~df.columns.duplicated(keep=\"first\")].copy()\n",
    "\n",
    "    # 2) coalesce suffix variants like game_id_x/game_id_y -> game_id\n",
    "    for base in keys:\n",
    "        x, y = f\"{base}_x\", f\"{base}_y\"\n",
    "        if x in df.columns or y in df.columns:\n",
    "            if base not in df.columns:\n",
    "                df[base] = df.get(x, df.get(y))\n",
    "            # if both exist, prefer _x but fill from _y where _x is NA\n",
    "            if x in df.columns and y in df.columns:\n",
    "                df[base] = df[base].where(~df[base].isna(), df[y])\n",
    "            df.drop(columns=[c for c in [x, y] if c in df.columns], inplace=True)\n",
    "\n",
    "        # if somehow there are still multiple columns with the same base name,\n",
    "        # keep the first one\n",
    "        if isinstance(df.get(base), pd.DataFrame):\n",
    "            first = df[base].iloc[:, 0]\n",
    "            df.drop(columns=[base], inplace=True)\n",
    "            df[base] = first\n",
    "\n",
    "    # ensure both keys exist; if not, try to build from the other tables later\n",
    "    missing = [k for k in keys if k not in df.columns]\n",
    "    if missing:\n",
    "        print(f\"[{name}] missing keys after normalize:\", missing)\n",
    "    return df\n",
    "\n",
    "labels  = normalize_keys(labels,  \"labels\")\n",
    "team    = normalize_keys(team,    \"team\")\n",
    "starter = normalize_keys(starter, \"starter\")\n",
    "lineup  = normalize_keys(lineup,  \"lineup\")\n",
    "pitch   = normalize_keys(pitch,   \"pitch\")\n",
    "pw      = normalize_keys(pw,      \"pw\")\n"
   ]
  },
  {
   "cell_type": "code",
   "execution_count": 10,
   "id": "bf58c1bf-f78f-404f-93bd-86d008076985",
   "metadata": {},
   "outputs": [],
   "source": [
    "def backfill_keys_from_labels(df, name):\n",
    "    need = [k for k in keys if k not in df.columns]\n",
    "    if need:\n",
    "        df = df.merge(\n",
    "            labels[keys].drop_duplicates(keys),\n",
    "            on=\"game_id\",\n",
    "            how=\"left\",\n",
    "            validate=\"many_to_one\",\n",
    "        )\n",
    "        print(f\"[{name}] backfilled keys from labels.\")\n",
    "    return df\n",
    "\n",
    "team    = backfill_keys_from_labels(team,    \"team\")\n",
    "starter = backfill_keys_from_labels(starter, \"starter\")\n",
    "lineup  = backfill_keys_from_labels(lineup,  \"lineup\")\n",
    "pitch   = backfill_keys_from_labels(pitch,   \"pitch\")\n",
    "pw      = backfill_keys_from_labels(pw,      \"pw\")\n"
   ]
  },
  {
   "cell_type": "code",
   "execution_count": 12,
   "id": "3fd3aeb6-50c1-4525-ac06-c4da2d9d0411",
   "metadata": {},
   "outputs": [
    {
     "name": "stdout",
     "output_type": "stream",
     "text": [
      "labels   rows= 8680  dup_key_rows=    0  unique_games=8680\n",
      "team     rows=17360  dup_key_rows= 8680  unique_games=8680\n",
      "starter  rows=17360  dup_key_rows= 8680  unique_games=8680\n",
      "lineup   rows= 8680  dup_key_rows=    0  unique_games=8680\n",
      "pitch    rows= 8680  dup_key_rows=    0  unique_games=8680\n",
      "pw       rows= 8680  dup_key_rows=    0  unique_games=8680\n"
     ]
    }
   ],
   "source": [
    "def dup_report(df, name):\n",
    "    dups = df.duplicated(keys).sum()\n",
    "    uniq = df.drop_duplicates(keys).shape[0]\n",
    "    print(f\"{name:8s} rows={len(df):5d}  dup_key_rows={dups:5d}  unique_games={uniq}\")\n",
    "\n",
    "for nm, df_ in [(\"labels\", labels), (\"team\", team), (\"starter\", starter),\n",
    "                (\"lineup\", lineup), (\"pitch\", pitch), (\"pw\", pw)]:\n",
    "    dup_report(df_, nm)\n"
   ]
  },
  {
   "cell_type": "code",
   "execution_count": 14,
   "id": "c1c31aca-2bc3-4f80-82f6-263c78aebbf9",
   "metadata": {},
   "outputs": [
    {
     "name": "stdout",
     "output_type": "stream",
     "text": [
      "team: squashed 17360 → 8680 rows (per game).\n",
      "starter: squashed 17360 → 8680 rows (per game).\n",
      "lineup: already per-game.\n",
      "pitch: already per-game.\n",
      "pw: already per-game.\n"
     ]
    }
   ],
   "source": [
    "def squash_to_game(df, name):\n",
    "    if df.duplicated(keys).any():\n",
    "        num_cols = df.select_dtypes(include=\"number\").columns.tolist()\n",
    "        keep = list(dict.fromkeys(keys + num_cols))  # preserve order, drop repeats\n",
    "        out = (df[keep]\n",
    "               .groupby(keys, as_index=False)\n",
    "               .mean(numeric_only=True))\n",
    "        print(f\"{name}: squashed {len(df)} → {len(out)} rows (per game).\")\n",
    "        return out\n",
    "    else:\n",
    "        print(f\"{name}: already per-game.\")\n",
    "        return df\n",
    "\n",
    "team    = squash_to_game(team,    \"team\")\n",
    "starter = squash_to_game(starter, \"starter\")\n",
    "lineup  = squash_to_game(lineup,  \"lineup\")   # usually already per-game, but safe\n",
    "pitch   = squash_to_game(pitch,   \"pitch\")\n",
    "pw      = squash_to_game(pw,      \"pw\")\n"
   ]
  },
  {
   "cell_type": "code",
   "execution_count": 16,
   "id": "e2c587c6-d4f2-4837-a0a8-229880226d6a",
   "metadata": {},
   "outputs": [],
   "source": [
    "for nm, df_ in [(\"team\", team), (\"starter\", starter), (\"lineup\", lineup), (\"pitch\", pitch), (\"pw\", pw)]:\n",
    "    assert not df_.duplicated(keys).any(), f\"{nm} still has duplicate game rows\"\n"
   ]
  },
  {
   "cell_type": "code",
   "execution_count": 18,
   "id": "fe795a58-88c4-48ab-bcd6-4ee74e76cac6",
   "metadata": {},
   "outputs": [
    {
     "data": {
      "text/plain": [
       "count    8680.000000\n",
       "mean        0.312701\n",
       "std         0.001375\n",
       "min         0.306651\n",
       "25%         0.311787\n",
       "50%         0.312701\n",
       "75%         0.313601\n",
       "max         0.318222\n",
       "Name: prior_y1, dtype: float64"
      ]
     },
     "execution_count": 18,
     "metadata": {},
     "output_type": "execute_result"
    }
   ],
   "source": [
    "from markov import build_first_inning_prior\n",
    "prior = build_first_inning_prior(labels, team, starter, lineup, pw)\n",
    "prior.describe()\n"
   ]
  },
  {
   "cell_type": "code",
   "execution_count": 20,
   "id": "4eb84007-e592-44cd-a169-fa6daa85df54",
   "metadata": {},
   "outputs": [],
   "source": [
    "# reload model code just in case you've edited anything\n",
    "import importlib, model\n",
    "importlib.reload(model)\n",
    "from model import train_hybrid_model\n"
   ]
  },
  {
   "cell_type": "code",
   "execution_count": 22,
   "id": "8b111d2c-5e65-4a16-8014-fe1e53b69023",
   "metadata": {},
   "outputs": [
    {
     "name": "stdout",
     "output_type": "stream",
     "text": [
      "Fold 1: Brier 0.1750 | LogLoss 0.5342 | AUC 0.531 | alpha -0.14 beta 0.07\n",
      "Fold 2: Brier 0.1886 | LogLoss 0.5643 | AUC 0.517 | alpha 0.02 beta -0.04\n",
      "Fold 3: Brier 0.1837 | LogLoss 0.5532 | AUC 0.529 | alpha -0.04 beta -0.10\n"
     ]
    },
    {
     "name": "stderr",
     "output_type": "stream",
     "text": [
      "C:\\Users\\alex\\Desktop\\nrfi\\src\\evaluate.py:19: FutureWarning: The default of observed=False is deprecated and will be changed to True in a future version of pandas. Pass observed=False to retain current behavior or observed=True to adopt the future default and silence this warning.\n",
      "  return pd.DataFrame({\"y\": y_true, \"p\": y_prob, \"bin\": q}).groupby(\"bin\", as_index=False).agg(\n"
     ]
    },
    {
     "data": {
      "text/plain": [
       "'data\\\\processed\\\\model.joblib'"
      ]
     },
     "execution_count": 22,
     "metadata": {},
     "output_type": "execute_result"
    }
   ],
   "source": [
    "# train the hybrid model\n",
    "artifacts = train_hybrid_model(\n",
    "    labels=labels,\n",
    "    features=[team, starter, lineup, pitch, pw],\n",
    "    prior=prior,\n",
    "    cfg=cfg\n",
    ")\n",
    "\n",
    "# confirm where the model got saved\n",
    "artifacts[\"model_path\"]\n"
   ]
  },
  {
   "cell_type": "code",
   "execution_count": 24,
   "id": "2c7fe7e7-a435-45f4-a421-8fd89682f6a4",
   "metadata": {},
   "outputs": [
    {
     "data": {
      "text/html": [
       "<style type=\"text/css\">\n",
       "</style>\n",
       "<table id=\"T_ffb0d\">\n",
       "  <thead>\n",
       "    <tr>\n",
       "      <th class=\"blank level0\" >&nbsp;</th>\n",
       "      <th id=\"T_ffb0d_level0_col0\" class=\"col_heading level0 col0\" >fold</th>\n",
       "      <th id=\"T_ffb0d_level0_col1\" class=\"col_heading level0 col1\" >brier</th>\n",
       "      <th id=\"T_ffb0d_level0_col2\" class=\"col_heading level0 col2\" >logloss</th>\n",
       "      <th id=\"T_ffb0d_level0_col3\" class=\"col_heading level0 col3\" >auc</th>\n",
       "      <th id=\"T_ffb0d_level0_col4\" class=\"col_heading level0 col4\" >alpha</th>\n",
       "      <th id=\"T_ffb0d_level0_col5\" class=\"col_heading level0 col5\" >beta</th>\n",
       "      <th id=\"T_ffb0d_level0_col6\" class=\"col_heading level0 col6\" >bias</th>\n",
       "    </tr>\n",
       "  </thead>\n",
       "  <tbody>\n",
       "    <tr>\n",
       "      <th id=\"T_ffb0d_level0_row0\" class=\"row_heading level0 row0\" >0</th>\n",
       "      <td id=\"T_ffb0d_row0_col0\" class=\"data row0 col0\" >1</td>\n",
       "      <td id=\"T_ffb0d_row0_col1\" class=\"data row0 col1\" >0.1750</td>\n",
       "      <td id=\"T_ffb0d_row0_col2\" class=\"data row0 col2\" >0.5342</td>\n",
       "      <td id=\"T_ffb0d_row0_col3\" class=\"data row0 col3\" >0.531</td>\n",
       "      <td id=\"T_ffb0d_row0_col4\" class=\"data row0 col4\" >-0.14</td>\n",
       "      <td id=\"T_ffb0d_row0_col5\" class=\"data row0 col5\" >0.07</td>\n",
       "      <td id=\"T_ffb0d_row0_col6\" class=\"data row0 col6\" >-1.26</td>\n",
       "    </tr>\n",
       "    <tr>\n",
       "      <th id=\"T_ffb0d_level0_row1\" class=\"row_heading level0 row1\" >1</th>\n",
       "      <td id=\"T_ffb0d_row1_col0\" class=\"data row1 col0\" >2</td>\n",
       "      <td id=\"T_ffb0d_row1_col1\" class=\"data row1 col1\" >0.1886</td>\n",
       "      <td id=\"T_ffb0d_row1_col2\" class=\"data row1 col2\" >0.5643</td>\n",
       "      <td id=\"T_ffb0d_row1_col3\" class=\"data row1 col3\" >0.517</td>\n",
       "      <td id=\"T_ffb0d_row1_col4\" class=\"data row1 col4\" >0.02</td>\n",
       "      <td id=\"T_ffb0d_row1_col5\" class=\"data row1 col5\" >-0.04</td>\n",
       "      <td id=\"T_ffb0d_row1_col6\" class=\"data row1 col6\" >-1.11</td>\n",
       "    </tr>\n",
       "    <tr>\n",
       "      <th id=\"T_ffb0d_level0_row2\" class=\"row_heading level0 row2\" >2</th>\n",
       "      <td id=\"T_ffb0d_row2_col0\" class=\"data row2 col0\" >3</td>\n",
       "      <td id=\"T_ffb0d_row2_col1\" class=\"data row2 col1\" >0.1837</td>\n",
       "      <td id=\"T_ffb0d_row2_col2\" class=\"data row2 col2\" >0.5532</td>\n",
       "      <td id=\"T_ffb0d_row2_col3\" class=\"data row2 col3\" >0.529</td>\n",
       "      <td id=\"T_ffb0d_row2_col4\" class=\"data row2 col4\" >-0.04</td>\n",
       "      <td id=\"T_ffb0d_row2_col5\" class=\"data row2 col5\" >-0.10</td>\n",
       "      <td id=\"T_ffb0d_row2_col6\" class=\"data row2 col6\" >-1.27</td>\n",
       "    </tr>\n",
       "  </tbody>\n",
       "</table>\n"
      ],
      "text/plain": [
       "<pandas.io.formats.style.Styler at 0x1f77d7eb0b0>"
      ]
     },
     "metadata": {},
     "output_type": "display_data"
    }
   ],
   "source": [
    "import joblib, pandas as pd\n",
    "from pathlib import Path\n",
    "\n",
    "processed_dir = Path(cfg[\"paths\"][\"processed_dir\"])\n",
    "art = joblib.load(processed_dir / \"model.joblib\")[\"artifacts\"]\n",
    "\n",
    "fold_df = pd.DataFrame(art[\"fold_info\"])\n",
    "display(fold_df.style.format({\"brier\": \"{:.4f}\", \"logloss\": \"{:.4f}\", \"auc\": \"{:.3f}\",\n",
    "                              \"alpha\": \"{:.2f}\", \"beta\": \"{:.2f}\", \"bias\": \"{:.2f}\"}))\n"
   ]
  },
  {
   "cell_type": "code",
   "execution_count": 26,
   "id": "26ef5e12-9fba-4e5e-b5fb-719275bc4dea",
   "metadata": {},
   "outputs": [
    {
     "data": {
      "image/png": "[encoded data removed]",
      "text/plain": [
       "<Figure size 600x600 with 1 Axes>"
      ]
     },
     "metadata": {},
     "output_type": "display_data"
    },
    {
     "data": {
      "text/html": [
       "<div>\n",
       "<style scoped>\n",
       "    .dataframe tbody tr th:only-of-type {\n",
       "        vertical-align: middle;\n",
       "    }\n",
       "\n",
       "    .dataframe tbody tr th {\n",
       "        vertical-align: top;\n",
       "    }\n",
       "\n",
       "    .dataframe thead th {\n",
       "        text-align: right;\n",
       "    }\n",
       "</style>\n",
       "<table border=\"1\" class=\"dataframe\">\n",
       "  <thead>\n",
       "    <tr style=\"text-align: right;\">\n",
       "      <th></th>\n",
       "      <th>bin</th>\n",
       "      <th>count</th>\n",
       "      <th>avg_p</th>\n",
       "      <th>hit_rate</th>\n",
       "    </tr>\n",
       "  </thead>\n",
       "  <tbody>\n",
       "    <tr>\n",
       "      <th>0</th>\n",
       "      <td>0</td>\n",
       "      <td>868</td>\n",
       "      <td>0.000</td>\n",
       "      <td>0.282</td>\n",
       "    </tr>\n",
       "    <tr>\n",
       "      <th>1</th>\n",
       "      <td>1</td>\n",
       "      <td>868</td>\n",
       "      <td>0.000</td>\n",
       "      <td>0.280</td>\n",
       "    </tr>\n",
       "    <tr>\n",
       "      <th>2</th>\n",
       "      <td>2</td>\n",
       "      <td>868</td>\n",
       "      <td>0.098</td>\n",
       "      <td>0.228</td>\n",
       "    </tr>\n",
       "    <tr>\n",
       "      <th>3</th>\n",
       "      <td>3</td>\n",
       "      <td>868</td>\n",
       "      <td>0.211</td>\n",
       "      <td>0.205</td>\n",
       "    </tr>\n",
       "    <tr>\n",
       "      <th>4</th>\n",
       "      <td>4</td>\n",
       "      <td>868</td>\n",
       "      <td>0.236</td>\n",
       "      <td>0.230</td>\n",
       "    </tr>\n",
       "    <tr>\n",
       "      <th>5</th>\n",
       "      <td>5</td>\n",
       "      <td>868</td>\n",
       "      <td>0.240</td>\n",
       "      <td>0.251</td>\n",
       "    </tr>\n",
       "    <tr>\n",
       "      <th>6</th>\n",
       "      <td>6</td>\n",
       "      <td>868</td>\n",
       "      <td>0.244</td>\n",
       "      <td>0.234</td>\n",
       "    </tr>\n",
       "    <tr>\n",
       "      <th>7</th>\n",
       "      <td>7</td>\n",
       "      <td>868</td>\n",
       "      <td>0.251</td>\n",
       "      <td>0.248</td>\n",
       "    </tr>\n",
       "    <tr>\n",
       "      <th>8</th>\n",
       "      <td>8</td>\n",
       "      <td>868</td>\n",
       "      <td>0.253</td>\n",
       "      <td>0.263</td>\n",
       "    </tr>\n",
       "    <tr>\n",
       "      <th>9</th>\n",
       "      <td>9</td>\n",
       "      <td>868</td>\n",
       "      <td>0.284</td>\n",
       "      <td>0.285</td>\n",
       "    </tr>\n",
       "  </tbody>\n",
       "</table>\n",
       "</div>"
      ],
      "text/plain": [
       "   bin  count  avg_p hit_rate\n",
       "0    0    868  0.000    0.282\n",
       "1    1    868  0.000    0.280\n",
       "2    2    868  0.098    0.228\n",
       "3    3    868  0.211    0.205\n",
       "4    4    868  0.236    0.230\n",
       "5    5    868  0.240    0.251\n",
       "6    6    868  0.244    0.234\n",
       "7    7    868  0.251    0.248\n",
       "8    8    868  0.253    0.263\n",
       "9    9    868  0.284    0.285"
      ]
     },
     "metadata": {},
     "output_type": "display_data"
    }
   ],
   "source": [
    "import numpy as np\n",
    "import pandas as pd\n",
    "import matplotlib.pyplot as plt\n",
    "\n",
    "pred = pd.read_parquet(processed_dir / \"train_predictions.parquet\")\n",
    "pred = pred.rename(columns={\"prob_yrfi\": \"p\", \"yrfi\": \"y\"})\n",
    "\n",
    "# Deciles by predicted prob\n",
    "q = pd.qcut(pred[\"p\"].rank(method=\"first\") / len(pred), q=10, labels=False)\n",
    "cal = (pd.DataFrame({\"y\": pred[\"y\"].astype(int), \"p\": pred[\"p\"], \"bin\": q})\n",
    "         .groupby(\"bin\", observed=True)\n",
    "         .agg(count=(\"y\", \"size\"), avg_p=(\"p\", \"mean\"), hit_rate=(\"y\", \"mean\"))\n",
    "         .reset_index())\n",
    "\n",
    "# Plot reliability\n",
    "plt.figure(figsize=(6, 6))\n",
    "plt.plot(cal[\"avg_p\"], cal[\"hit_rate\"], marker=\"o\", label=\"Model\")\n",
    "plt.plot([0, 1], [0, 1], linestyle=\"--\", label=\"Perfect\")\n",
    "plt.xlabel(\"Predicted probability\")\n",
    "plt.ylabel(\"Observed frequency\")\n",
    "plt.title(\"Reliability (calibration) curve\")\n",
    "plt.legend()\n",
    "plt.show()\n",
    "\n",
    "# Show the decile table\n",
    "cal_style = cal.copy()\n",
    "cal_style[\"avg_p\"] = cal_style[\"avg_p\"].map(\"{:.3f}\".format)\n",
    "cal_style[\"hit_rate\"] = cal_style[\"hit_rate\"].map(\"{:.3f}\".format)\n",
    "display(cal_style)\n"
   ]
  },
  {
   "cell_type": "code",
   "execution_count": 28,
   "id": "3a6eed68-f683-482b-8907-78e512287801",
   "metadata": {},
   "outputs": [
    {
     "data": {
      "image/png": "[encoded data removed]",
      "text/plain": [
       "<Figure size 600x600 with 1 Axes>"
      ]
     },
     "metadata": {},
     "output_type": "display_data"
    },
    {
     "data": {
      "image/png": "[encoded data removed]",
      "text/plain": [
       "<Figure size 600x300 with 1 Axes>"
      ]
     },
     "metadata": {},
     "output_type": "display_data"
    }
   ],
   "source": [
    "from sklearn.metrics import roc_curve, roc_auc_score\n",
    "\n",
    "auc = roc_auc_score(pred[\"y\"], pred[\"p\"])\n",
    "fpr, tpr, _ = roc_curve(pred[\"y\"], pred[\"p\"])\n",
    "\n",
    "plt.figure(figsize=(6, 6))\n",
    "plt.plot(fpr, tpr, label=f\"ROC (AUC={auc:.3f})\")\n",
    "plt.plot([0,1], [0,1], linestyle=\"--\")\n",
    "plt.xlabel(\"FPR\")\n",
    "plt.ylabel(\"TPR\")\n",
    "plt.title(\"ROC curve\")\n",
    "plt.legend()\n",
    "plt.show()\n",
    "\n",
    "plt.figure(figsize=(6, 3))\n",
    "pred[\"p\"].hist(bins=30)\n",
    "plt.title(\"Predicted probability distribution\")\n",
    "plt.xlabel(\"p(YRFI)\")\n",
    "plt.ylabel(\"Count\")\n",
    "plt.show()\n"
   ]
  },
  {
   "cell_type": "code",
   "execution_count": null,
   "id": "03be6a7e-d86a-436c-893f-5520cc8c208b",
   "metadata": {},
   "outputs": [],
   "source": []
  }
 ],
 "metadata": {
  "kernelspec": {
   "display_name": "Python 3 (nrfi)",
   "language": "python",
   "name": "nrfi"
  },
  "language_info": {
   "codemirror_mode": {
    "name": "ipython",
    "version": 3
   },
   "file_extension": ".py",
   "mimetype": "text/x-python",
   "name": "python",
   "nbconvert_exporter": "python",
   "pygments_lexer": "ipython3",
   "version": "3.12.7"
  }
 },
 "nbformat": 4,
 "nbformat_minor": 5
}
