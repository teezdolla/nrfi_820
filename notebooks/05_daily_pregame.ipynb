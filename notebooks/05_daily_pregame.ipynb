{
 "cells": [
  {
   "cell_type": "code",
   "execution_count": null,
   "id": "4e00da18-aa85-41c4-91fd-544b8a23ffd6",
   "metadata": {},
   "outputs": [],
   "source": [
    "import os, sys, yaml\n",
    "from pathlib import Path\n",
    "def _find_root():\n",
    "    cwd = Path.cwd()\n",
    "    for p in [cwd] + list(cwd.parents):\n",
    "        if (p / \"src\").is_dir() and (p / \"configs\").is_dir():\n",
    "            return p\n",
    "    return cwd\n",
    "PROJECT_ROOT = _find_root().resolve()\n",
    "os.environ[\"NRFI_PROJECT_ROOT\"] = str(PROJECT_ROOT)\n",
    "if str(PROJECT_ROOT / \"src\") not in sys.path:\n",
    "    sys.path.insert(0, str(PROJECT_ROOT / \"src\"))\n",
    "from utils import print_run_header\n",
    "from data import DataManager, fetch_schedule_probables\n",
    "print_run_header(\"05_daily_pregame\")\n",
    "\n",
    "cfg = yaml.safe_load((PROJECT_ROOT / \"configs/config.yaml\").read_text())\n",
    "dm = DataManager.from_config(cfg)\n"
   ]
  },
  {
   "cell_type": "code",
   "execution_count": null,
   "id": "6411372c-508a-4204-8e17-4d17191bd052",
   "metadata": {},
   "outputs": [],
   "source": [
    "schedule = fetch_schedule_probables(target_date=None)  # today or sample fallback\n",
    "schedule.shape\n"
   ]
  },
  {
   "cell_type": "code",
   "execution_count": null,
   "id": "7ab157b6-fbda-4c06-999f-035c6f53e077",
   "metadata": {},
   "outputs": [],
   "source": [
    "from model import load_model_and_predict_daily\n",
    "preds = load_model_and_predict_daily(cfg=cfg, schedule=schedule)\n",
    "preds.sort_values(\"edge_yrfi\", ascending=False).head(10)\n"
   ]
  },
  {
   "cell_type": "code",
   "execution_count": null,
   "id": "1783780e-7ab3-4c8a-8e62-a292e28eee05",
   "metadata": {},
   "outputs": [],
   "source": [
    "from model import load_model_and_predict_daily\n",
    "preds = load_model_and_predict_daily(cfg=cfg, schedule=schedule)\n",
    "preds.sort_values(\"edge_yrfi\", ascending=False).head(10)\n"
   ]
  }
 ],
 "metadata": {
  "kernelspec": {
   "display_name": "Python 3 (nrfi)",
   "language": "python",
   "name": "nrfi"
  },
  "language_info": {
   "codemirror_mode": {
    "name": "ipython",
    "version": 3
   },
   "file_extension": ".py",
   "mimetype": "text/x-python",
   "name": "python",
   "nbconvert_exporter": "python",
   "pygments_lexer": "ipython3",
   "version": "3.12.7"
  }
 },
 "nbformat": 4,
 "nbformat_minor": 5
}
