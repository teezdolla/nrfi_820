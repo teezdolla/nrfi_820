{
 "cells": [
  {
   "cell_type": "code",
   "execution_count": 2,
   "id": "aafd5bd4-8487-48fd-aea4-9aa8ea524c5a",
   "metadata": {},
   "outputs": [
    {
     "name": "stdout",
     "output_type": "stream",
     "text": [
      "=== 02_feature_store ===\n",
      "Python 3.12.7 | pandas 2.3.1 | numpy 2.2.6 | sklearn 1.7.1 | xgboost 3.0.4\n",
      "Platform: Windows 11 | Time: 2025-08-21 19:34:54\n",
      "labels: (8680, 7) from C:\\Users\\alex\\Desktop\\nrfi\\data\\processed\\labels.parquet\n"
     ]
    }
   ],
   "source": [
    "# === 02_feature_store: universal header + config + labels ===\n",
    "import sys\n",
    "from pathlib import Path\n",
    "\n",
    "# 1) Make src/ importable regardless of where you opened the notebook\n",
    "PROJECT_ROOT = Path.cwd()\n",
    "if PROJECT_ROOT.name.lower() == \"notebooks\":\n",
    "    PROJECT_ROOT = PROJECT_ROOT.parent\n",
    "sys.path.insert(0, str(PROJECT_ROOT / \"src\"))\n",
    "\n",
    "# 2) Autoreload so edits in src/ are picked up automatically\n",
    "%load_ext autoreload\n",
    "%autoreload 2\n",
    "\n",
    "# 3) Imports\n",
    "import yaml\n",
    "from utils import print_run_header, read_parquet\n",
    "\n",
    "print_run_header(\"02_feature_store\")\n",
    "\n",
    "# 4) Load config\n",
    "CFG_PATH = PROJECT_ROOT / \"configs\" / \"config.yaml\"\n",
    "assert CFG_PATH.exists(), f\"Missing config at {CFG_PATH}\"\n",
    "cfg = yaml.safe_load(CFG_PATH.read_text())\n",
    "\n",
    "# 5) Load labels (built in 01_data_build)\n",
    "PROC_DIR = PROJECT_ROOT / cfg[\"paths\"][\"processed_dir\"]\n",
    "LABELS_PATH = PROC_DIR / \"labels.parquet\"\n",
    "assert LABELS_PATH.exists(), f\"Missing {LABELS_PATH} — run 01_data_build.ipynb first.\"\n",
    "labels = read_parquet(LABELS_PATH)\n",
    "print(\"labels:\", labels.shape, \"from\", LABELS_PATH)\n"
   ]
  },
  {
   "cell_type": "code",
   "execution_count": 3,
   "id": "5bfeced8-88d6-4aae-8d7e-8dc26eb08b23",
   "metadata": {},
   "outputs": [
    {
     "data": {
      "text/plain": [
       "(8680, 4)"
      ]
     },
     "execution_count": 3,
     "metadata": {},
     "output_type": "execute_result"
    }
   ],
   "source": [
    "from features import build_team_fi_features\n",
    "team_feat = build_team_fi_features(labels, eb_prior_strength=cfg[\"features\"][\"eb_prior_strength\"])\n",
    "team_feat.shape\n"
   ]
  },
  {
   "cell_type": "code",
   "execution_count": 4,
   "id": "b50145f4-c620-4f1b-b9e0-a60578fa525b",
   "metadata": {},
   "outputs": [
    {
     "data": {
      "text/plain": [
       "(8680, 4)"
      ]
     },
     "execution_count": 4,
     "metadata": {},
     "output_type": "execute_result"
    }
   ],
   "source": [
    "# Starter features\n",
    "from features import build_starter_fi_features\n",
    "starter_feat = build_starter_fi_features(labels, eb_prior_strength=cfg[\"features\"][\"eb_prior_strength\"])\n",
    "starter_feat.shape\n"
   ]
  },
  {
   "cell_type": "code",
   "execution_count": 5,
   "id": "cdca61d9-9e6d-4a0c-8932-f10eb0cfe24c",
   "metadata": {},
   "outputs": [
    {
     "data": {
      "text/plain": [
       "(8680, 4)"
      ]
     },
     "execution_count": 5,
     "metadata": {},
     "output_type": "execute_result"
    }
   ],
   "source": [
    "# Lineup priors\n",
    "from lineups import build_lineup_priors\n",
    "lineup_feat = build_lineup_priors(labels, n_samples=cfg[\"features\"][\"lineup_samples\"])\n",
    "lineup_feat.shape\n"
   ]
  },
  {
   "cell_type": "code",
   "execution_count": 6,
   "id": "9a43cf24-dff4-4c1e-bb34-2a2f631c7135",
   "metadata": {},
   "outputs": [
    {
     "data": {
      "text/plain": [
       "(8680, 4)"
      ]
     },
     "execution_count": 6,
     "metadata": {},
     "output_type": "execute_result"
    }
   ],
   "source": [
    "# Pitch-matchup placeholders\n",
    "from features import build_pitch_matchup_features\n",
    "pitch_feat = build_pitch_matchup_features(labels)\n",
    "pitch_feat.shape\n"
   ]
  },
  {
   "cell_type": "code",
   "execution_count": 7,
   "id": "6a79bb4e-7f8f-4a64-b428-9600b7ca6f0d",
   "metadata": {},
   "outputs": [
    {
     "name": "stdout",
     "output_type": "stream",
     "text": [
      "02_feature_store ✅ | wrote: ['team_features.parquet', 'starter_features.parquet', 'lineup_features.parquet', 'pitch_features.parquet']\n"
     ]
    }
   ],
   "source": [
    "from utils import write_parquet\n",
    "\n",
    "pairs = [\n",
    "    (\"team_features.parquet\",    team_feat),\n",
    "    (\"starter_features.parquet\", starter_feat),\n",
    "    (\"lineup_features.parquet\",  lineup_feat),\n",
    "    (\"pitch_features.parquet\",   pitch_feat),\n",
    "]\n",
    "\n",
    "# include park/weather only if you created pw_feat above\n",
    "if \"pw_feat\" in globals():\n",
    "    pairs.append((\"park_weather_features.parquet\", pw_feat))\n",
    "\n",
    "PROC_DIR.mkdir(parents=True, exist_ok=True)\n",
    "for name, df in pairs:\n",
    "    assert len(df) > 0, f\"Critical empty table: {name}\"\n",
    "    write_parquet(df, PROC_DIR / name)\n",
    "\n",
    "print(\"02_feature_store ✅ | wrote:\", [n for n, _ in pairs])\n"
   ]
  },
  {
   "cell_type": "code",
   "execution_count": null,
   "id": "9739c9a3-fc9e-421e-b55d-a4fcee0888cc",
   "metadata": {},
   "outputs": [],
   "source": []
  },
  {
   "cell_type": "code",
   "execution_count": null,
   "id": "c397ffff-84e5-4c7e-bb72-8d693fdfc001",
   "metadata": {},
   "outputs": [],
   "source": []
  }
 ],
 "metadata": {
  "kernelspec": {
   "display_name": "Python 3 (nrfi)",
   "language": "python",
   "name": "nrfi"
  },
  "language_info": {
   "codemirror_mode": {
    "name": "ipython",
    "version": 3
   },
   "file_extension": ".py",
   "mimetype": "text/x-python",
   "name": "python",
   "nbconvert_exporter": "python",
   "pygments_lexer": "ipython3",
   "version": "3.12.7"
  }
 },
 "nbformat": 4,
 "nbformat_minor": 5
}
