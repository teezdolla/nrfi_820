{
 "cells": [
  {
   "cell_type": "code",
   "execution_count": 2,
   "id": "b8d3c770-611c-46da-8a38-3b815ab50c1d",
   "metadata": {},
   "outputs": [
    {
     "name": "stdout",
     "output_type": "stream",
     "text": [
      "=== 01_data_build ===\n",
      "Python 3.12.7 | pandas 2.3.1 | numpy 2.2.6 | sklearn 1.7.1 | xgboost 3.0.4\n",
      "Platform: Windows 11 | Time: 2025-08-21 16:27:43\n",
      "Project root: C:\\Users\\alex\\Desktop\\nrfi\n"
     ]
    }
   ],
   "source": [
    "# Universal header: robust project root (works from repo root OR notebooks/)\n",
    "import os, sys\n",
    "from pathlib import Path\n",
    "\n",
    "def _find_root():\n",
    "    cwd = Path.cwd()\n",
    "    for p in [cwd] + list(cwd.parents):\n",
    "        if (p / \"src\").is_dir() and (p / \"configs\").is_dir():\n",
    "            return p\n",
    "    return cwd\n",
    "\n",
    "PROJECT_ROOT = _find_root().resolve()\n",
    "os.environ[\"NRFI_PROJECT_ROOT\"] = str(PROJECT_ROOT)\n",
    "if str(PROJECT_ROOT / \"src\") not in sys.path:\n",
    "    sys.path.insert(0, str(PROJECT_ROOT / \"src\"))\n",
    "\n",
    "from utils import print_run_header, set_seed\n",
    "print_run_header(\"01_data_build\")\n",
    "set_seed(42)\n",
    "print(\"Project root:\", PROJECT_ROOT)\n"
   ]
  },
  {
   "cell_type": "code",
   "execution_count": 3,
   "id": "7611ac92-f34f-41de-9924-b9b481a8c97d",
   "metadata": {},
   "outputs": [
    {
     "name": "stdout",
     "output_type": "stream",
     "text": [
      "Config loaded: 2021-04-01 → 2024-05-15\n"
     ]
    }
   ],
   "source": [
    "import yaml\n",
    "CONFIG_PATH = PROJECT_ROOT / \"configs\" / \"config.yaml\"\n",
    "CONFIG_PATH.parent.mkdir(parents=True, exist_ok=True)\n",
    "\n",
    "if not CONFIG_PATH.exists():\n",
    "    # Write a default config so first run never fails\n",
    "    CONFIG_DEFAULT = \"\"\"project:\n",
    "  name: nrfi_yrfi\n",
    "  seed: 42\n",
    "  use_duckdb: true\n",
    "  log_level: INFO\n",
    "  time_zone_default: America/New_York\n",
    "paths:\n",
    "  data_dir: data\n",
    "  raw_dir: data/raw\n",
    "  processed_dir: data/processed\n",
    "  reference_dir: data/reference\n",
    "  sample_dir: data/sample\n",
    "  outputs_dir: outputs\n",
    "  reports_dir: reports\n",
    "  odds_dir: data/odds\n",
    "training:\n",
    "  start_date: \"2024-04-01\"\n",
    "  end_date: \"2024-05-15\"\n",
    "  min_games_required: 10\n",
    "  n_folds: 3\n",
    "  fold_granularity: \"M\"\n",
    "model:\n",
    "  use_xgb: true\n",
    "  xgb_params:\n",
    "    n_estimators: 200\n",
    "    max_depth: 3\n",
    "    learning_rate: 0.08\n",
    "    subsample: 0.9\n",
    "    colsample_bytree: 0.9\n",
    "    reg_lambda: 1.0\n",
    "    reg_alpha: 0.0\n",
    "    n_jobs: -1\n",
    "  calibration: \"isotonic\"\n",
    "  bootstrap:\n",
    "    enabled: true\n",
    "    n_boot: 200\n",
    "    block_unit: \"D\"\n",
    "    block_size: 3\n",
    "features:\n",
    "  lineup_samples: 25\n",
    "  min_history_days: 14\n",
    "  eb_prior_strength: 50\n",
    "  default_first_pitch_local_time: \"19:00\"\n",
    "odds:\n",
    "  kelly_fraction_cap: 0.25\n",
    "  min_edge_abs: 0.02\n",
    "  min_ci_half_width: 0.06\n",
    "backtest:\n",
    "  bankroll_start: 1000\n",
    "  flat_stake: 10.0\n",
    "\"\"\"\n",
    "    CONFIG_PATH.write_text(CONFIG_DEFAULT)\n",
    "\n",
    "cfg = yaml.safe_load(CONFIG_PATH.read_text())\n",
    "print(\"Config loaded:\", cfg[\"training\"][\"start_date\"], \"→\", cfg[\"training\"][\"end_date\"])\n"
   ]
  },
  {
   "cell_type": "code",
   "execution_count": 4,
   "id": "eee16e0e-4b2c-4194-b93a-9fe4715001cf",
   "metadata": {},
   "outputs": [
    {
     "name": "stdout",
     "output_type": "stream",
     "text": [
      "[pybaseball.statcast 2021-04-01..2024-05-15] start\n",
      "This is a large query, it may take a moment to complete\n",
      "Skipping offseason dates\n",
      "Skipping offseason dates\n",
      "Skipping offseason dates\n"
     ]
    },
    {
     "name": "stderr",
     "output_type": "stream",
     "text": [
      "100%|██████████| 783/783 [03:36<00:00,  3.62it/s]\n",
      "C:\\Users\\alex\\Desktop\\nrfi\\.venv\\Lib\\site-packages\\pybaseball\\statcast.py:85: FutureWarning: The behavior of DataFrame concatenation with empty or all-NA entries is deprecated. In a future version, this will no longer exclude empty or all-NA columns when determining the result dtypes. To retain the old behavior, exclude the relevant entries before the concat operation.\n",
      "  final_data = pd.concat(dataframe_list, axis=0).convert_dtypes(convert_string=False)\n"
     ]
    },
    {
     "name": "stdout",
     "output_type": "stream",
     "text": [
      "[pybaseball.statcast 2021-04-01..2024-05-15] done in 256.04s\n",
      "PBP shape: (2491869, 120)\n"
     ]
    }
   ],
   "source": [
    "# Cell 3: Statcast / PBP pulls with caching + fallback sample\n",
    "from data import DataManager, fetch_statcast_range\n",
    "\n",
    "dm = DataManager.from_config(cfg)\n",
    "dm.ensure_dirs()\n",
    "\n",
    "pbp = fetch_statcast_range(\n",
    "    start_date=cfg[\"training\"][\"start_date\"],\n",
    "    end_date=cfg[\"training\"][\"end_date\"]\n",
    ")\n",
    "\n",
    "print(\"PBP shape:\", pbp.shape)\n"
   ]
  },
  {
   "cell_type": "code",
   "execution_count": 5,
   "id": "672b58c9-c98b-4a8e-8741-53f4e0840d14",
   "metadata": {},
   "outputs": [
    {
     "name": "stderr",
     "output_type": "stream",
     "text": [
      "C:\\Users\\alex\\Desktop\\nrfi\\src\\data.py:131: FutureWarning: DataFrameGroupBy.apply operated on the grouping columns. This behavior is deprecated, and in a future version of pandas the grouping columns will be excluded from the operation. Either pass `include_groups=False` to exclude the groupings or explicitly select the grouping columns after groupby to silence this warning.\n",
      "  r = df1.groupby(\"game_pk\").apply(_runs_in_inning).rename(\"first_inning_runs\")\n"
     ]
    },
    {
     "name": "stdout",
     "output_type": "stream",
     "text": [
      "        date            game_id  game_pk         game_datetime_utc away_team  \\\n",
      "0 2021-04-10  2021-04-10_COL_SF   632169 2021-04-10 00:00:00+00:00       COL   \n",
      "1 2021-04-11  2021-04-11_KC_CWS   632170 2021-04-11 00:00:00+00:00        KC   \n",
      "2 2021-04-11  2021-04-11_COL_SF   632188 2021-04-11 00:00:00+00:00       COL   \n",
      "\n",
      "  home_team  yrfi  \n",
      "0        SF     0  \n",
      "1       CWS     0  \n",
      "2        SF     1  \n"
     ]
    }
   ],
   "source": [
    "from data import build_first_inning_labels\n",
    "labels = build_first_inning_labels(pbp)\n",
    "print(labels.head(3))\n"
   ]
  },
  {
   "cell_type": "code",
   "execution_count": 13,
   "id": "1f3fd4a6-b0fc-457d-b7a1-4415d24b5e54",
   "metadata": {},
   "outputs": [
    {
     "name": "stdout",
     "output_type": "stream",
     "text": [
      "data module file: C:\\Users\\alex\\Desktop\\nrfi\\src\\data.py\n"
     ]
    },
    {
     "ename": "NameError",
     "evalue": "name 'cfg' is not defined",
     "output_type": "error",
     "traceback": [
      "\u001b[31m---------------------------------------------------------------------------\u001b[39m",
      "\u001b[31mNameError\u001b[39m                                 Traceback (most recent call last)",
      "\u001b[36mCell\u001b[39m\u001b[36m \u001b[39m\u001b[32mIn[13]\u001b[39m\u001b[32m, line 17\u001b[39m\n\u001b[32m     14\u001b[39m \u001b[38;5;28mprint\u001b[39m(\u001b[33m\"\u001b[39m\u001b[33mdata module file:\u001b[39m\u001b[33m\"\u001b[39m, \u001b[38;5;28mgetattr\u001b[39m(data, \u001b[33m\"\u001b[39m\u001b[33m__file__\u001b[39m\u001b[33m\"\u001b[39m, \u001b[33m\"\u001b[39m\u001b[33m<no __file__>\u001b[39m\u001b[33m\"\u001b[39m))\n\u001b[32m     16\u001b[39m \u001b[38;5;66;03m# rebuild DataManager\u001b[39;00m\n\u001b[32m---> \u001b[39m\u001b[32m17\u001b[39m dm = data.DataManager.from_config(\u001b[43mcfg\u001b[49m)\n\u001b[32m     18\u001b[39m dm.ensure_dirs()\n\u001b[32m     20\u001b[39m \u001b[38;5;66;03m# now run the functions\u001b[39;00m\n",
      "\u001b[31mNameError\u001b[39m: name 'cfg' is not defined"
     ]
    }
   ],
   "source": [
    "import sys, importlib\n",
    "from pathlib import Path\n",
    "\n",
    "# ensure our repo src is on path\n",
    "PROJECT_ROOT = Path.cwd()\n",
    "if PROJECT_ROOT.name.lower() == \"notebooks\":\n",
    "    PROJECT_ROOT = PROJECT_ROOT.parent\n",
    "src_path = str(PROJECT_ROOT / \"src\")\n",
    "if src_path not in sys.path:\n",
    "    sys.path.insert(0, src_path)\n",
    "\n",
    "import data\n",
    "importlib.reload(data)\n",
    "print(\"data module file:\", getattr(data, \"__file__\", \"<no __file__>\"))\n",
    "\n",
    "# rebuild DataManager\n",
    "dm = data.DataManager.from_config(cfg)\n",
    "dm.ensure_dirs()\n",
    "\n",
    "# now run the functions\n",
    "stadiums = data.ensure_stadium_reference(dm.reference_dir)\n",
    "labels = data.attach_scheduled_times(\n",
    "    labels,\n",
    "    stadiums,\n",
    "    default_local_time=cfg[\"features\"][\"default_first_pitch_local_time\"],\n",
    "    reference_dir=dm.reference_dir,   # cache location\n",
    "    use_schedule=False                # True = hits MLB API, False = fast fallback\n",
    ")\n"
   ]
  },
  {
   "cell_type": "code",
   "execution_count": 7,
   "id": "9c70a7c4-ed0c-4c03-b1cf-9552b47b1150",
   "metadata": {},
   "outputs": [
    {
     "name": "stdout",
     "output_type": "stream",
     "text": [
      "(10, 3)\n",
      "  team_code  season  park_factor_runs\n",
      "0       NYY    2023              1.03\n",
      "1       BOS    2023              1.05\n",
      "2       LAD    2023              0.96\n"
     ]
    }
   ],
   "source": [
    "# Park factors (recompute if missing)\n",
    "from data import ensure_park_factors\n",
    "park = ensure_park_factors(dm.reference_dir, pbp=pbp, seasons=[2023])\n",
    "print(park.shape)\n",
    "print(park.head(3))\n"
   ]
  },
  {
   "cell_type": "code",
   "execution_count": 8,
   "id": "b43b46ad-da65-4878-96bd-a9ecd8f479dd",
   "metadata": {},
   "outputs": [
    {
     "name": "stdout",
     "output_type": "stream",
     "text": [
      "Weather placeholder rows: (8680, 5)\n"
     ]
    }
   ],
   "source": [
    "# Weather (meteostat) with robust fallbacks Skip for now\n",
    "import pandas as pd\n",
    "\n",
    "# Skip weather for now – create neutral placeholder\n",
    "weather = pd.DataFrame({\n",
    "    \"game_id\": labels[\"game_id\"],\n",
    "    \"temp_c\": 20.0,\n",
    "    \"rel_humidity\": 50.0,\n",
    "    \"wind_kph\": 8.0,\n",
    "    \"mslp_hpa\": 1015.0\n",
    "})\n",
    "print(\"Weather placeholder rows:\", weather.shape)\n"
   ]
  },
  {
   "cell_type": "code",
   "execution_count": 9,
   "id": "b7f64037-8809-44be-a021-5ba617d26073",
   "metadata": {},
   "outputs": [
    {
     "name": "stdout",
     "output_type": "stream",
     "text": [
      "Sample written -> C:\\Users\\alex\\Desktop\\nrfi\\data\\sample\n"
     ]
    }
   ],
   "source": [
    "# Persist a tiny, offline sample\n",
    "from data import write_sample_bundle\n",
    "write_sample_bundle(dm.sample_dir, labels=labels, pbp=pbp, stadiums=stadiums, weather=weather)\n",
    "print(\"Sample written ->\", dm.sample_dir)\n"
   ]
  },
  {
   "cell_type": "code",
   "execution_count": 10,
   "id": "b2489b29-98cf-4263-8b99-62858a86f5f9",
   "metadata": {},
   "outputs": [
    {
     "name": "stdout",
     "output_type": "stream",
     "text": [
      "Saved: C:\\Users\\alex\\Desktop\\nrfi\\data\\processed\\labels.parquet\n",
      "01_data_build ✅\n"
     ]
    }
   ],
   "source": [
    "# Save labels to processed\n",
    "from utils import write_parquet\n",
    "proc_path = PROJECT_ROOT / cfg[\"paths\"][\"processed_dir\"]\n",
    "proc_path.mkdir(parents=True, exist_ok=True)\n",
    "write_parquet(labels, proc_path / \"labels.parquet\")\n",
    "print(\"Saved:\", proc_path / \"labels.parquet\")\n",
    "print(\"01_data_build ✅\")\n"
   ]
  },
  {
   "cell_type": "code",
   "execution_count": null,
   "id": "c1535cf5-d947-4c4f-becd-608bd1ea7f2f",
   "metadata": {},
   "outputs": [],
   "source": []
  }
 ],
 "metadata": {
  "kernelspec": {
   "display_name": "Python 3 (nrfi)",
   "language": "python",
   "name": "nrfi"
  },
  "language_info": {
   "codemirror_mode": {
    "name": "ipython",
    "version": 3
   },
   "file_extension": ".py",
   "mimetype": "text/x-python",
   "name": "python",
   "nbconvert_exporter": "python",
   "pygments_lexer": "ipython3",
   "version": "3.12.7"
  }
 },
 "nbformat": 4,
 "nbformat_minor": 5
}
