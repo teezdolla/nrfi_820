{
 "cells": [
  {
   "cell_type": "code",
   "execution_count": null,
   "id": "959f037e-6b10-48b0-8b68-45a96fdc2d60",
   "metadata": {},
   "outputs": [],
   "source": [
    "import os, sys, yaml\n",
    "from pathlib import Path\n",
    "def _find_root():\n",
    "    cwd = Path.cwd()\n",
    "    for p in [cwd] + list(cwd.parents):\n",
    "        if (p / \"src\").is_dir() and (p / \"configs\").is_dir():\n",
    "            return p\n",
    "    return cwd\n",
    "PROJECT_ROOT = _find_root().resolve()\n",
    "os.environ[\"NRFI_PROJECT_ROOT\"] = str(PROJECT_ROOT)\n",
    "if str(PROJECT_ROOT / \"src\") not in sys.path:\n",
    "    sys.path.insert(0, str(PROJECT_ROOT / \"src\"))\n",
    "from utils import print_run_header\n",
    "print_run_header(\"04_backtest_odds\")\n",
    "\n",
    "cfg = yaml.safe_load((PROJECT_ROOT / \"configs/config.yaml\").read_text())\n"
   ]
  },
  {
   "cell_type": "code",
   "execution_count": null,
   "id": "4506d421-d46c-4e6b-a039-2c2814ac7779",
   "metadata": {},
   "outputs": [],
   "source": [
    "from backtest import load_and_devig_odds\n",
    "odds_path = PROJECT_ROOT / cfg[\"paths\"][\"odds_dir\"] / \"odds.csv\"\n",
    "odds = load_and_devig_odds(odds_path)\n",
    "odds.shape\n"
   ]
  },
  {
   "cell_type": "code",
   "execution_count": null,
   "id": "5d75ffa4-4a11-49b1-beea-b5291cff81a5",
   "metadata": {},
   "outputs": [],
   "source": [
    "from backtest import simulate_bankroll\n",
    "simulate_bankroll(cfg)[\"summary\"]\n"
   ]
  },
  {
   "cell_type": "code",
   "execution_count": null,
   "id": "e1633c02-6aa0-41e6-8d3d-c07bd5853b40",
   "metadata": {},
   "outputs": [],
   "source": [
    "print(\"04_backtest_odds ✅\")\n"
   ]
  }
 ],
 "metadata": {
  "kernelspec": {
   "display_name": "Python 3 (nrfi)",
   "language": "python",
   "name": "nrfi"
  },
  "language_info": {
   "codemirror_mode": {
    "name": "ipython",
    "version": 3
   },
   "file_extension": ".py",
   "mimetype": "text/x-python",
   "name": "python",
   "nbconvert_exporter": "python",
   "pygments_lexer": "ipython3",
   "version": "3.12.7"
  }
 },
 "nbformat": 4,
 "nbformat_minor": 5
}
